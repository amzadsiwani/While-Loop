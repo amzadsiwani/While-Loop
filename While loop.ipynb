{
 "cells": [
  {
   "cell_type": "code",
   "execution_count": 1,
   "id": "bd03afb8-6185-4538-9384-e61593dd1639",
   "metadata": {},
   "outputs": [
    {
     "name": "stdout",
     "output_type": "stream",
     "text": [
      "1\n",
      "2\n",
      "3\n",
      "4\n",
      "5\n",
      "6\n",
      "7\n",
      "8\n",
      "9\n",
      "10\n"
     ]
    }
   ],
   "source": [
    "a=1\n",
    "\n",
    "while a<=10:\n",
    "    print(a)\n",
    "    a=a+1 "
   ]
  },
  {
   "cell_type": "markdown",
   "id": "604b4635-c486-4f65-8ad6-545a41e1e8e5",
   "metadata": {},
   "source": [
    "#sum up the number till some point"
   ]
  },
  {
   "cell_type": "code",
   "execution_count": 2,
   "id": "de2ca617-ad35-4362-aedc-c5f7cd7511e8",
   "metadata": {},
   "outputs": [
    {
     "name": "stdin",
     "output_type": "stream",
     "text": [
      "enter your limit 5\n"
     ]
    },
    {
     "data": {
      "text/plain": [
       "15"
      ]
     },
     "execution_count": 2,
     "metadata": {},
     "output_type": "execute_result"
    }
   ],
   "source": [
    "n=int(input(\"enter your limit\"))\n",
    "starting_point=0\n",
    "counter=1\n",
    "\n",
    "while counter <=n:\n",
    "    starting_point = starting_point + counter\n",
    "    counter = counter +1\n",
    "starting_point"
   ]
  },
  {
   "cell_type": "code",
   "execution_count": 3,
   "id": "5b912630-e87b-4711-8d45-ecfb74f77dee",
   "metadata": {},
   "outputs": [
    {
     "data": {
      "text/plain": [
       "(1, 2, 3, 4, 5)"
      ]
     },
     "execution_count": 3,
     "metadata": {},
     "output_type": "execute_result"
    }
   ],
   "source": [
    "1,2,3,4,5"
   ]
  },
  {
   "cell_type": "markdown",
   "id": "dd87e875-fec8-4b1e-bcb1-f8f9283f2cb7",
   "metadata": {},
   "source": [
    "#how to find out Factorial"
   ]
  },
  {
   "cell_type": "code",
   "execution_count": 5,
   "id": "2ea0f51f-10d4-415c-bf63-3ef4d572dd72",
   "metadata": {},
   "outputs": [
    {
     "name": "stdin",
     "output_type": "stream",
     "text": [
      "enter your number 3\n"
     ]
    },
    {
     "data": {
      "text/plain": [
       "6"
      ]
     },
     "execution_count": 5,
     "metadata": {},
     "output_type": "execute_result"
    }
   ],
   "source": [
    "number = int(input(\"enter your number\"))\n",
    "factorial = 1\n",
    "while number > 0:\n",
    "    factorial = factorial*number\n",
    "    number = number-1\n",
    "factorial"
   ]
  },
  {
   "cell_type": "markdown",
   "id": "4bb8b817-c62b-4f73-9094-df3a1b236622",
   "metadata": {},
   "source": [
    "#Fibonacci series"
   ]
  },
  {
   "cell_type": "code",
   "execution_count": 8,
   "id": "3820f348-c92a-458f-b41d-abd078f81838",
   "metadata": {},
   "outputs": [
    {
     "name": "stdin",
     "output_type": "stream",
     "text": [
      "enter the number of element you are looking for 10\n"
     ]
    },
    {
     "name": "stdout",
     "output_type": "stream",
     "text": [
      "0\n",
      "1\n",
      "1\n",
      "2\n",
      "3\n",
      "5\n",
      "8\n",
      "13\n",
      "21\n",
      "34\n"
     ]
    }
   ],
   "source": [
    "number = int(input(\"enter the number of element you are looking for\"))\n",
    "a,b = 0,1\n",
    "counter = 0\n",
    "while counter < number:\n",
    "    print(a)\n",
    "    c = a + b\n",
    "    a = b\n",
    "    b = c\n",
    "    counter = counter +1\n",
    "    "
   ]
  },
  {
   "cell_type": "code",
   "execution_count": 7,
   "id": "7a0b0bc2-95c4-414e-aee6-6d2fb7865413",
   "metadata": {},
   "outputs": [
    {
     "name": "stdout",
     "output_type": "stream",
     "text": [
      "0\n",
      "1\n",
      "1\n",
      "2\n",
      "3\n",
      "5\n",
      "8\n",
      "13\n",
      "21\n",
      "34\n"
     ]
    }
   ],
   "source": [
    "a,b = 0,1\n",
    "\n",
    "for i in range(10):\n",
    "    print(a)\n",
    "    c = a+b\n",
    "    a = b\n",
    "    b = c"
   ]
  },
  {
   "cell_type": "code",
   "execution_count": 9,
   "id": "a1dc67c0-847c-4205-bc3c-0eb8833d7fa9",
   "metadata": {},
   "outputs": [],
   "source": [
    "s = \"amzad\""
   ]
  },
  {
   "cell_type": "code",
   "execution_count": 10,
   "id": "a2277467-c0d0-4edd-9fd7-dc4c62969f6a",
   "metadata": {},
   "outputs": [
    {
     "data": {
      "text/plain": [
       "'dazma'"
      ]
     },
     "execution_count": 10,
     "metadata": {},
     "output_type": "execute_result"
    }
   ],
   "source": [
    "s[::-1]"
   ]
  },
  {
   "cell_type": "code",
   "execution_count": 15,
   "id": "3811a7fe-c8f0-4316-8277-a21a5995843f",
   "metadata": {},
   "outputs": [
    {
     "data": {
      "text/plain": [
       "5"
      ]
     },
     "execution_count": 15,
     "metadata": {},
     "output_type": "execute_result"
    }
   ],
   "source": [
    "len(word)"
   ]
  },
  {
   "cell_type": "code",
   "execution_count": 14,
   "id": "5864e756-3293-4859-8ca7-75da3603de97",
   "metadata": {},
   "outputs": [
    {
     "name": "stdin",
     "output_type": "stream",
     "text": [
      "enter your string for reversal amzad\n"
     ]
    }
   ],
   "source": [
    "word =input(\"enter your string for reversal\")"
   ]
  },
  {
   "cell_type": "code",
   "execution_count": 16,
   "id": "60263b5b-5372-4375-9b92-9a449efb06e9",
   "metadata": {},
   "outputs": [
    {
     "name": "stdout",
     "output_type": "stream",
     "text": [
      "dazma\n"
     ]
    }
   ],
   "source": [
    "reverse = \"\"\n",
    "length = len(word)\n",
    "while length > 0:\n",
    "    reverse = reverse + word[length-1]\n",
    "    length = length -1\n",
    "print(reverse)"
   ]
  },
  {
   "cell_type": "markdown",
   "id": "8521ec0d-8fad-4ef4-a03d-65d7a6a12840",
   "metadata": {},
   "source": [
    "#print Table of numers"
   ]
  },
  {
   "cell_type": "code",
   "execution_count": 18,
   "id": "81dc09e6-62cb-4c97-95ae-64c6ab05d672",
   "metadata": {},
   "outputs": [
    {
     "name": "stdin",
     "output_type": "stream",
     "text": [
      "enter your number 2\n"
     ]
    },
    {
     "name": "stdout",
     "output_type": "stream",
     "text": [
      "2 * 1 = 2\n",
      "2 * 2 = 2\n",
      "2 * 3 = 2\n",
      "2 * 4 = 2\n",
      "2 * 5 = 2\n",
      "2 * 6 = 2\n",
      "2 * 7 = 2\n",
      "2 * 8 = 2\n",
      "2 * 9 = 2\n",
      "2 * 10 = 2\n",
      "2 * 11 = 2\n",
      "2 * 12 = 2\n",
      "2 * 13 = 2\n",
      "2 * 14 = 2\n",
      "2 * 15 = 2\n",
      "2 * 16 = 2\n",
      "2 * 17 = 2\n",
      "2 * 18 = 2\n",
      "2 * 19 = 2\n",
      "2 * 20 = 2\n"
     ]
    }
   ],
   "source": [
    "n =int(input(\"enter your number\"))\n",
    "i = 1\n",
    "\n",
    "while i <=20:\n",
    "    result = n*1\n",
    "    print(n,\"*\",i,\"=\",result)\n",
    "    i = i+1"
   ]
  },
  {
   "cell_type": "code",
   "execution_count": 19,
   "id": "5dc9a996-9697-401a-8de4-5b9a7af0aa02",
   "metadata": {},
   "outputs": [
    {
     "name": "stdout",
     "output_type": "stream",
     "text": [
      "1\n",
      "2\n",
      "3\n",
      "4\n",
      "this will be executed once your while will complete it successfully\n"
     ]
    }
   ],
   "source": [
    "n = 5\n",
    "i = 1\n",
    "while i < n:\n",
    "    print(i)\n",
    "    i = i+1\n",
    "else:\n",
    "    print(\"this will be executed once your while will complete it successfully\")"
   ]
  },
  {
   "cell_type": "code",
   "execution_count": null,
   "id": "a4435a4f-2703-4d89-a69b-c9bf5725d5c4",
   "metadata": {},
   "outputs": [],
   "source": []
  },
  {
   "cell_type": "code",
   "execution_count": null,
   "id": "15a95bf5-30fc-483d-9deb-1c27a07a4124",
   "metadata": {},
   "outputs": [],
   "source": []
  },
  {
   "cell_type": "code",
   "execution_count": null,
   "id": "bc95267e-e281-49d3-9dad-574dab67c1e2",
   "metadata": {},
   "outputs": [],
   "source": []
  }
 ],
 "metadata": {
  "kernelspec": {
   "display_name": "Python 3 (ipykernel)",
   "language": "python",
   "name": "python3"
  },
  "language_info": {
   "codemirror_mode": {
    "name": "ipython",
    "version": 3
   },
   "file_extension": ".py",
   "mimetype": "text/x-python",
   "name": "python",
   "nbconvert_exporter": "python",
   "pygments_lexer": "ipython3",
   "version": "3.10.8"
  }
 },
 "nbformat": 4,
 "nbformat_minor": 5
}
